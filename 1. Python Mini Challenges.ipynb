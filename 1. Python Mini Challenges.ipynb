{
 "cells": [
  {
   "cell_type": "markdown",
   "metadata": {},
   "source": [
    "### Smallest Palindrome\n",
    "##### Create a function called palindrome(num) that given a number 'num', finds the next smallest palindrome and returns it"
   ]
  },
  {
   "cell_type": "code",
   "execution_count": null,
   "metadata": {},
   "outputs": [],
   "source": [
    "def palindrome(num):\n",
    "    i = num + 1\n",
    "    while True:\n",
    "        str_num = str(i)\n",
    "        if str_num == str_num[::-1]:\n",
    "            return i\n",
    "        else:\n",
    "            i+=1\n",
    "            \n",
    "print(palindrome(123))"
   ]
  },
  {
   "cell_type": "markdown",
   "metadata": {},
   "source": [
    "### Anagram Scramble\n",
    "##### Create a function called 'a_scramble(str_1, str_2)' that given the strings'str_1','str_2' returns True if a portion of 'str_1' characters can be scrambled to match 'str2', else return False"
   ]
  },
  {
   "cell_type": "code",
   "execution_count": null,
   "metadata": {},
   "outputs": [],
   "source": [
    "def a_scramble(str_1, str_2):\n",
    "\n",
    "    str_1 = str_1.lower()\n",
    "    str_2 = str_2.lower()\n",
    "    \n",
    "    for a in str_2:\n",
    "        if a in str_1:\n",
    "            str_1 = str_1.replace(a, \"\", 1)\n",
    "        else:\n",
    "            return False\n",
    "\n",
    "    else:\n",
    "        return True\n",
    "        \n",
    "\n",
    "print(a_scramble(\"eatcher\",\"teacher\"))"
   ]
  },
  {
   "cell_type": "markdown",
   "metadata": {},
   "source": [
    "### Fibonacci Check\n",
    "##### Create a function called check_fib(num) that checks if the given number 'num' is part of the fibonacci sequence and returns True if it is, else False"
   ]
  },
  {
   "cell_type": "code",
   "execution_count": null,
   "metadata": {},
   "outputs": [],
   "source": [
    "def check_fib(num):\n",
    "    a = -1\n",
    "    b = 1\n",
    "    sum1 = 0\n",
    "    while sum1<=num:\n",
    "        sum1 = a+b\n",
    "        a = b\n",
    "        b = sum1\n",
    "        \n",
    "        if sum1 == num:\n",
    "            return True\n",
    "    else:\n",
    "        return False\n",
    "    \n",
    "\n",
    "print(check_fib(145))\n",
    "        "
   ]
  },
  {
   "cell_type": "markdown",
   "metadata": {},
   "source": [
    "### String Compression\n",
    "##### Write a function compress(word) that given a word word returns the string with it's letters and how many times they occur continously together."
   ]
  },
  {
   "cell_type": "code",
   "execution_count": null,
   "metadata": {},
   "outputs": [],
   "source": [
    "def compress(word):\n",
    "    a = word.lower()\n",
    "    length = len(a)\n",
    "    a += \"  \"\n",
    "    main_count = 0\n",
    "    return_str = ''\n",
    "\n",
    "    while True:\n",
    "        count = 0\n",
    "        for i in range(main_count, length+1):\n",
    "            if a[main_count] == a[i]:\n",
    "                count += 1\n",
    "            else:\n",
    "                return_str += f'{a[main_count]}{count}'\n",
    "                main_count = i\n",
    "                break\n",
    "        \n",
    "        if main_count>=length:\n",
    "            break\n",
    "                \n",
    "    return return_str\n",
    "\n",
    "print(compress(\"xxcccdex\"))"
   ]
  },
  {
   "cell_type": "markdown",
   "metadata": {},
   "source": [
    "### K-Distinct\n",
    "##### Write a function k_distinct(string,k) that given a string 'string' and number 'k', it checks whether the 'string' has 'k' distinct characters"
   ]
  },
  {
   "cell_type": "code",
   "execution_count": null,
   "metadata": {},
   "outputs": [],
   "source": [
    "def k_distinct(string, k):\n",
    "    a = string.lower()\n",
    "    letter_list = []\n",
    "\n",
    "    for c in a:\n",
    "        if c not in letter_list:\n",
    "            letter_list.append(c)\n",
    "            \n",
    "    length = len(letter_list)\n",
    "\n",
    "    if length == k:\n",
    "        return True\n",
    "    else:\n",
    "        return False\n",
    "\n",
    "k_distinct('Messoptamia',8)"
   ]
  },
  {
   "cell_type": "code",
   "execution_count": null,
   "metadata": {},
   "outputs": [],
   "source": []
  }
 ],
 "metadata": {
  "kernelspec": {
   "display_name": "Python 3",
   "language": "python",
   "name": "python3"
  },
  "language_info": {
   "codemirror_mode": {
    "name": "ipython",
    "version": 3
   },
   "file_extension": ".py",
   "mimetype": "text/x-python",
   "name": "python",
   "nbconvert_exporter": "python",
   "pygments_lexer": "ipython3",
   "version": "3.7.6"
  },
  "varInspector": {
   "cols": {
    "lenName": 16,
    "lenType": 16,
    "lenVar": 40
   },
   "kernels_config": {
    "python": {
     "delete_cmd_postfix": "",
     "delete_cmd_prefix": "del ",
     "library": "var_list.py",
     "varRefreshCmd": "print(var_dic_list())"
    },
    "r": {
     "delete_cmd_postfix": ") ",
     "delete_cmd_prefix": "rm(",
     "library": "var_list.r",
     "varRefreshCmd": "cat(var_dic_list()) "
    }
   },
   "types_to_exclude": [
    "module",
    "function",
    "builtin_function_or_method",
    "instance",
    "_Feature"
   ],
   "window_display": false
  }
 },
 "nbformat": 4,
 "nbformat_minor": 4
}
